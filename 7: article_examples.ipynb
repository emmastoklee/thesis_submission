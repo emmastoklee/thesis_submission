{
 "cells": [
  {
   "cell_type": "code",
   "execution_count": 1,
   "metadata": {},
   "outputs": [],
   "source": [
    "import pandas as pd\n"
   ]
  },
  {
   "cell_type": "code",
   "execution_count": 2,
   "metadata": {},
   "outputs": [],
   "source": [
    "# read in data\n",
    "df = pd.read_csv('/Users/emmastoklundlee/Documents/Social Data Science - Masters/Thesis/data/guardian_classified_clean.csv')"
   ]
  },
  {
   "cell_type": "code",
   "execution_count": 3,
   "metadata": {},
   "outputs": [
    {
     "data": {
      "text/html": [
       "<div>\n",
       "<style scoped>\n",
       "    .dataframe tbody tr th:only-of-type {\n",
       "        vertical-align: middle;\n",
       "    }\n",
       "\n",
       "    .dataframe tbody tr th {\n",
       "        vertical-align: top;\n",
       "    }\n",
       "\n",
       "    .dataframe thead th {\n",
       "        text-align: right;\n",
       "    }\n",
       "</style>\n",
       "<table border=\"1\" class=\"dataframe\">\n",
       "  <thead>\n",
       "    <tr style=\"text-align: right;\">\n",
       "      <th></th>\n",
       "      <th>type</th>\n",
       "      <th>sectionName</th>\n",
       "      <th>webTitle</th>\n",
       "      <th>webUrl</th>\n",
       "      <th>date</th>\n",
       "      <th>headline</th>\n",
       "      <th>article_text</th>\n",
       "      <th>word_count</th>\n",
       "      <th>author</th>\n",
       "      <th>char_count</th>\n",
       "      <th>womens_dictionary</th>\n",
       "      <th>mens_dictionary</th>\n",
       "      <th>men_and_women</th>\n",
       "      <th>other</th>\n",
       "      <th>liveblog</th>\n",
       "      <th>month_year</th>\n",
       "      <th>classification</th>\n",
       "      <th>only_women</th>\n",
       "      <th>only_men</th>\n",
       "    </tr>\n",
       "  </thead>\n",
       "  <tbody>\n",
       "    <tr>\n",
       "      <th>0</th>\n",
       "      <td>article</td>\n",
       "      <td>Football</td>\n",
       "      <td>Why always him? What made Rodgers turn to Mari...</td>\n",
       "      <td>https://www.theguardian.com/football/blog/2015...</td>\n",
       "      <td>2015-01-28</td>\n",
       "      <td>Why always him? What made Rodgers turn to Mari...</td>\n",
       "      <td>With all eyes on Diego Costa and where he stam...</td>\n",
       "      <td>720</td>\n",
       "      <td>Andy Hunter</td>\n",
       "      <td>4220</td>\n",
       "      <td>False</td>\n",
       "      <td>True</td>\n",
       "      <td>False</td>\n",
       "      <td>False</td>\n",
       "      <td>0</td>\n",
       "      <td>2015-01-01</td>\n",
       "      <td>2</td>\n",
       "      <td>False</td>\n",
       "      <td>True</td>\n",
       "    </tr>\n",
       "    <tr>\n",
       "      <th>1</th>\n",
       "      <td>article</td>\n",
       "      <td>Football</td>\n",
       "      <td>Football transfer rumours: Mario Suárez to Ars...</td>\n",
       "      <td>https://www.theguardian.com/football/2015/jan/...</td>\n",
       "      <td>2015-01-01</td>\n",
       "      <td>Football transfer rumours: Mario Suárez to Ars...</td>\n",
       "      <td>Fizzle, crackle, crackle, fizzle, crackle, cra...</td>\n",
       "      <td>434</td>\n",
       "      <td>Gregg Bakowski</td>\n",
       "      <td>2408</td>\n",
       "      <td>False</td>\n",
       "      <td>True</td>\n",
       "      <td>False</td>\n",
       "      <td>False</td>\n",
       "      <td>0</td>\n",
       "      <td>2015-01-01</td>\n",
       "      <td>2</td>\n",
       "      <td>False</td>\n",
       "      <td>True</td>\n",
       "    </tr>\n",
       "    <tr>\n",
       "      <th>2</th>\n",
       "      <td>article</td>\n",
       "      <td>Football</td>\n",
       "      <td>Kenny Lowe: the man leading Perth Glory to the...</td>\n",
       "      <td>https://www.theguardian.com/football/2015/jan/...</td>\n",
       "      <td>2015-01-01</td>\n",
       "      <td>Kenny Lowe: the man leading Perth Glory to the...</td>\n",
       "      <td>Kenny Lowe jokes that when he leaves Perth Glo...</td>\n",
       "      <td>937</td>\n",
       "      <td>Jack Kerr</td>\n",
       "      <td>5300</td>\n",
       "      <td>False</td>\n",
       "      <td>True</td>\n",
       "      <td>False</td>\n",
       "      <td>False</td>\n",
       "      <td>0</td>\n",
       "      <td>2015-01-01</td>\n",
       "      <td>2</td>\n",
       "      <td>False</td>\n",
       "      <td>True</td>\n",
       "    </tr>\n",
       "    <tr>\n",
       "      <th>3</th>\n",
       "      <td>article</td>\n",
       "      <td>Football</td>\n",
       "      <td>Manchester United consider Aston Villa’s Ron V...</td>\n",
       "      <td>https://www.theguardian.com/football/2015/jan/...</td>\n",
       "      <td>2015-01-01</td>\n",
       "      <td>Manchester United consider Aston Villa’s Ron V...</td>\n",
       "      <td>Ron Vlaar is under consideration by Louis van ...</td>\n",
       "      <td>299</td>\n",
       "      <td>Jamie Jackson</td>\n",
       "      <td>1703</td>\n",
       "      <td>False</td>\n",
       "      <td>True</td>\n",
       "      <td>False</td>\n",
       "      <td>False</td>\n",
       "      <td>0</td>\n",
       "      <td>2015-01-01</td>\n",
       "      <td>2</td>\n",
       "      <td>False</td>\n",
       "      <td>True</td>\n",
       "    </tr>\n",
       "    <tr>\n",
       "      <th>4</th>\n",
       "      <td>article</td>\n",
       "      <td>Football</td>\n",
       "      <td>Tony Pulis appointed West Brom head coach on t...</td>\n",
       "      <td>https://www.theguardian.com/football/2015/jan/...</td>\n",
       "      <td>2015-01-01</td>\n",
       "      <td>Tony Pulis appointed West Brom head coach on t...</td>\n",
       "      <td>Tony Pulis has been appointed as the new head ...</td>\n",
       "      <td>306</td>\n",
       "      <td>Guardian sport</td>\n",
       "      <td>1777</td>\n",
       "      <td>False</td>\n",
       "      <td>True</td>\n",
       "      <td>False</td>\n",
       "      <td>False</td>\n",
       "      <td>0</td>\n",
       "      <td>2015-01-01</td>\n",
       "      <td>2</td>\n",
       "      <td>False</td>\n",
       "      <td>True</td>\n",
       "    </tr>\n",
       "  </tbody>\n",
       "</table>\n",
       "</div>"
      ],
      "text/plain": [
       "      type sectionName                                           webTitle  \\\n",
       "0  article    Football  Why always him? What made Rodgers turn to Mari...   \n",
       "1  article    Football  Football transfer rumours: Mario Suárez to Ars...   \n",
       "2  article    Football  Kenny Lowe: the man leading Perth Glory to the...   \n",
       "3  article    Football  Manchester United consider Aston Villa’s Ron V...   \n",
       "4  article    Football  Tony Pulis appointed West Brom head coach on t...   \n",
       "\n",
       "                                              webUrl        date  \\\n",
       "0  https://www.theguardian.com/football/blog/2015...  2015-01-28   \n",
       "1  https://www.theguardian.com/football/2015/jan/...  2015-01-01   \n",
       "2  https://www.theguardian.com/football/2015/jan/...  2015-01-01   \n",
       "3  https://www.theguardian.com/football/2015/jan/...  2015-01-01   \n",
       "4  https://www.theguardian.com/football/2015/jan/...  2015-01-01   \n",
       "\n",
       "                                            headline  \\\n",
       "0  Why always him? What made Rodgers turn to Mari...   \n",
       "1  Football transfer rumours: Mario Suárez to Ars...   \n",
       "2  Kenny Lowe: the man leading Perth Glory to the...   \n",
       "3  Manchester United consider Aston Villa’s Ron V...   \n",
       "4  Tony Pulis appointed West Brom head coach on t...   \n",
       "\n",
       "                                        article_text  word_count  \\\n",
       "0  With all eyes on Diego Costa and where he stam...         720   \n",
       "1  Fizzle, crackle, crackle, fizzle, crackle, cra...         434   \n",
       "2  Kenny Lowe jokes that when he leaves Perth Glo...         937   \n",
       "3  Ron Vlaar is under consideration by Louis van ...         299   \n",
       "4  Tony Pulis has been appointed as the new head ...         306   \n",
       "\n",
       "           author  char_count  womens_dictionary  mens_dictionary  \\\n",
       "0     Andy Hunter        4220              False             True   \n",
       "1  Gregg Bakowski        2408              False             True   \n",
       "2       Jack Kerr        5300              False             True   \n",
       "3   Jamie Jackson        1703              False             True   \n",
       "4  Guardian sport        1777              False             True   \n",
       "\n",
       "   men_and_women  other  liveblog  month_year  classification  only_women  \\\n",
       "0          False  False         0  2015-01-01               2       False   \n",
       "1          False  False         0  2015-01-01               2       False   \n",
       "2          False  False         0  2015-01-01               2       False   \n",
       "3          False  False         0  2015-01-01               2       False   \n",
       "4          False  False         0  2015-01-01               2       False   \n",
       "\n",
       "   only_men  \n",
       "0      True  \n",
       "1      True  \n",
       "2      True  \n",
       "3      True  \n",
       "4      True  "
      ]
     },
     "execution_count": 3,
     "metadata": {},
     "output_type": "execute_result"
    }
   ],
   "source": [
    "df.head()"
   ]
  },
  {
   "cell_type": "code",
   "execution_count": 4,
   "metadata": {},
   "outputs": [],
   "source": [
    "# create df where only_women is equal to true\n",
    "women_df = df[df['only_women']==True]"
   ]
  },
  {
   "cell_type": "code",
   "execution_count": 5,
   "metadata": {},
   "outputs": [
    {
     "data": {
      "text/plain": [
       "3693"
      ]
     },
     "execution_count": 5,
     "metadata": {},
     "output_type": "execute_result"
    }
   ],
   "source": [
    "len(women_df)"
   ]
  },
  {
   "cell_type": "code",
   "execution_count": 6,
   "metadata": {},
   "outputs": [],
   "source": [
    "men_df = df[df['only_men']==True]"
   ]
  },
  {
   "cell_type": "code",
   "execution_count": 7,
   "metadata": {},
   "outputs": [
    {
     "data": {
      "text/plain": [
       "51934"
      ]
     },
     "execution_count": 7,
     "metadata": {},
     "output_type": "execute_result"
    }
   ],
   "source": [
    "len(men_df)"
   ]
  },
  {
   "cell_type": "code",
   "execution_count": 10,
   "metadata": {},
   "outputs": [
    {
     "data": {
      "text/plain": [
       "2658                   Sexual consent course offered to clubs condemned over link to Ched Evans\n",
       "13754                                Ched Evans calls for more education on alcohol and consent\n",
       "34365                Carolina Rozo: 'It started with words. He would tell me I was very pretty'\n",
       "41199     ‘They are protecting the club not girls’: More abuse claims hit North American soccer\n",
       "41513    Sydney Leroux’s mother says abuse and bullying in Canadian soccer drove daughter to US\n",
       "42163                   President of Gabon league accused of sexually abusing young footballers\n",
       "43260           Concern grows over investigation into alleged sexual abuse in Gabonese football\n",
       "44755                Canada Soccer mishandled complaints against coach Bob Birarda, review says\n",
       "45630     Report finds sexual misconduct and emotional abuse is ‘systemic’ in US women’s soccer\n",
       "46145          Fifa backs executives after failure to tell players about sexually abusive coach\n",
       "48223         Canadian MPs summon senior soccer officials as they investigate response to abuse\n",
       "49132                      Critics say ‘absolutely no change’ in Canada Soccer despite scandals\n",
       "50266                Prosecutors investigating whether football chief’s kiss was sexual assault\n",
       "50506                Jorge Vilda under investigation as criminal court looks into Rubiales kiss\n",
       "50540                      Former Spain captain says Luis Rubiales row felt like ‘going to war’\n",
       "50541         Rubiales resigned to protect Spain men’s World Cup bid – not for the women’s game\n",
       "50695        Spain’s fight for change after World Cup is bigger than sport – it’s for all women\n",
       "50905                 Spain’s World Cup win was part of battle for equality, says Jenni Hermoso\n",
       "51024               Jenni Hermoso called up by Spain for first time since Luis Rubiales scandal\n",
       "51194                Luis Rubiales banned from football for three years over Jenni Hermoso kiss\n",
       "53168              Spanish police raid Luis Rubiales’ house as part of corruption investigation\n",
       "53301                Luis Rubiales faces possible 30-month jail sentence for Jenni Hermoso kiss\n",
       "Name: headline, dtype: object"
      ]
     },
     "execution_count": 10,
     "metadata": {},
     "output_type": "execute_result"
    }
   ],
   "source": [
    "# return rows where 'sexual' is included in column 'article_text'\n",
    "pd.set_option('display.max_colwidth', None)\n",
    "\n",
    "women_df[women_df['article_text'].str.contains('sexual assault', case=False, na=False)]['headline'].tail(25)\n"
   ]
  },
  {
   "cell_type": "code",
   "execution_count": 11,
   "metadata": {},
   "outputs": [
    {
     "data": {
      "text/plain": [
       "22"
      ]
     },
     "execution_count": 11,
     "metadata": {},
     "output_type": "execute_result"
    }
   ],
   "source": [
    "len(women_df[women_df['article_text'].str.contains('sexual assault', case=False, na=False)]['headline'])"
   ]
  },
  {
   "cell_type": "code",
   "execution_count": 13,
   "metadata": {},
   "outputs": [
    {
     "data": {
      "text/plain": [
       "39"
      ]
     },
     "execution_count": 13,
     "metadata": {},
     "output_type": "execute_result"
    }
   ],
   "source": [
    "len(men_df[men_df['article_text'].str.contains('sexual assault', case=False, na=False)]['headline'])"
   ]
  },
  {
   "cell_type": "code",
   "execution_count": 12,
   "metadata": {},
   "outputs": [
    {
     "data": {
      "text/plain": [
       "25"
      ]
     },
     "execution_count": 12,
     "metadata": {},
     "output_type": "execute_result"
    }
   ],
   "source": [
    "len(women_df[women_df['article_text'].str.contains('sexual misconduct', case=False, na=False)]['headline'])"
   ]
  },
  {
   "cell_type": "code",
   "execution_count": 14,
   "metadata": {},
   "outputs": [
    {
     "data": {
      "text/plain": [
       "0"
      ]
     },
     "execution_count": 14,
     "metadata": {},
     "output_type": "execute_result"
    }
   ],
   "source": [
    "len(men_df[men_df['article_text'].str.contains('sexual misconduct', case=False, na=False)]['headline'])"
   ]
  },
  {
   "cell_type": "code",
   "execution_count": 60,
   "metadata": {},
   "outputs": [
    {
     "data": {
      "text/plain": [
       "36067    Everton's Hayley Raso: 'I've learned not to take football for granted'\n",
       "41691     Manchester City’s Hayley Raso: ‘My book is for my brother and family’\n",
       "Name: headline, dtype: object"
      ]
     },
     "execution_count": 60,
     "metadata": {},
     "output_type": "execute_result"
    }
   ],
   "source": [
    "women_df[women_df['article_text'].str.contains('relearned', case=False, na=False)]['headline'].tail(25)\n"
   ]
  },
  {
   "cell_type": "code",
   "execution_count": null,
   "metadata": {},
   "outputs": [],
   "source": []
  }
 ],
 "metadata": {
  "kernelspec": {
   "display_name": "gensim_update",
   "language": "python",
   "name": "python3"
  },
  "language_info": {
   "codemirror_mode": {
    "name": "ipython",
    "version": 3
   },
   "file_extension": ".py",
   "mimetype": "text/x-python",
   "name": "python",
   "nbconvert_exporter": "python",
   "pygments_lexer": "ipython3",
   "version": "3.9.16"
  },
  "orig_nbformat": 4
 },
 "nbformat": 4,
 "nbformat_minor": 2
}
