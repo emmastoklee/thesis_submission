{
  "metadata": {
    "kernelspec": {
      "name": "python3",
      "display_name": "Python 3",
      "language": "python"
    },
    "language_info": {
      "name": "python",
      "version": "3.10.14",
      "mimetype": "text/x-python",
      "codemirror_mode": {
        "name": "ipython",
        "version": 3
      },
      "pygments_lexer": "ipython3",
      "nbconvert_exporter": "python",
      "file_extension": ".py"
    },
    "colab": {
      "provenance": [],
      "gpuType": "V28"
    },
    "accelerator": "TPU",
    "kaggle": {
      "accelerator": "nvidiaTeslaT4",
      "dataSources": [
        {
          "sourceId": 9835901,
          "sourceType": "datasetVersion",
          "datasetId": 6033337
        },
        {
          "sourceId": 9854442,
          "sourceType": "datasetVersion",
          "datasetId": 6047219
        }
      ],
      "dockerImageVersionId": 30786,
      "isInternetEnabled": true,
      "language": "python",
      "sourceType": "notebook",
      "isGpuEnabled": true
    }
  },
  "nbformat_minor": 0,
  "nbformat": 4,
  "cells": [
    {
      "cell_type": "markdown",
      "source": [
        "### PMI Scores and POS tagging - and combining these\n",
        "In the following I first calculate PMI scores, these calculation are done using code from Pew Analytics Research. I copy their function, but full their full code see python file called: 'mutual_info.py'. See details of these function here: https://pewresearch.github.io/pewanalytics/examples.html#mutual-information.\n",
        "\n",
        "I first do this on the full dataset texts, and then where I remove stop words as a robustness check.\n",
        "\n",
        "I then implement the BERT part of speech tagger from Hugging Face on the top 5000 words associated with women's football articles and men's football articles: https://huggingface.co/tasks/token-classification.\n",
        "\n",
        "This code was run in kaggle due to the higher computational power which was available, hence the reference to kaggle.\n",
        "\n"
      ],
      "metadata": {
        "id": "ADH8vtZVDdFv"
      }
    },
    {
      "source": [
        "# IMPORTANT: SOME KAGGLE DATA SOURCES ARE PRIVATE\n",
        "# RUN THIS CELL IN ORDER TO IMPORT YOUR KAGGLE DATA SOURCES.\n",
        "import kagglehub\n",
        "kagglehub.login()\n"
      ],
      "metadata": {
        "id": "rb-4EUdbNxl3"
      },
      "cell_type": "code",
      "outputs": [],
      "execution_count": null
    },
    {
      "source": [
        "# IMPORTANT: RUN THIS CELL IN ORDER TO IMPORT YOUR KAGGLE DATA SOURCES,\n",
        "# THEN FEEL FREE TO DELETE THIS CELL.\n",
        "# NOTE: THIS NOTEBOOK ENVIRONMENT DIFFERS FROM KAGGLE'S PYTHON\n",
        "# ENVIRONMENT SO THERE MAY BE MISSING LIBRARIES USED BY YOUR\n",
        "# NOTEBOOK.\n",
        "\n",
        "emmastoklee_liwc_analysis_men_csv_path = kagglehub.dataset_download('emmastoklee/liwc-analysis-men-csv')\n",
        "emmastoklee_pmi_scores_path = kagglehub.dataset_download('emmastoklee/pmi-scores')\n",
        "\n",
        "print('Data source import complete.')\n"
      ],
      "metadata": {
        "id": "QUDqhiusNxl4"
      },
      "cell_type": "code",
      "outputs": [],
      "execution_count": null
    },
    {
      "cell_type": "code",
      "source": [
        "import pandas as pd\n",
        "import math\n",
        "from sklearn.feature_extraction.text import CountVectorizer\n",
        "import numpy as np\n",
        "from pandas import json_normalize\n",
        "import json\n",
        "from scipy.sparse import csr_matrix\n"
      ],
      "metadata": {
        "id": "G7cWsQkt3vVW",
        "execution": {
          "iopub.status.busy": "2024-11-20T15:28:31.460727Z",
          "iopub.execute_input": "2024-11-20T15:28:31.461078Z",
          "iopub.status.idle": "2024-11-20T15:28:33.038325Z",
          "shell.execute_reply.started": "2024-11-20T15:28:31.461045Z",
          "shell.execute_reply": "2024-11-20T15:28:33.037404Z"
        },
        "trusted": true
      },
      "execution_count": null,
      "outputs": []
    },
    {
      "cell_type": "code",
      "source": [
        "def is_null(val, empty_lists_are_null=False, custom_nulls=None):\n",
        "\n",
        "    \"\"\"\n",
        "    Returns the opposite of the outcome of :py:func:`pewtils.is_not_null`. The following values are always \\\n",
        "    considered null: ``numpy.nan, None, \"None\", \"nan\", \"\", \" \", \"NaN\", \"none\", \"n/a\", \"NONE\", \"N/A\"``\n",
        "\n",
        "    :param val: The value to check\n",
        "    :param empty_lists_are_null: Whether or not an empty list or :py:class:`pandas.DataFrame` should be considered \\\n",
        "    null (default=False)\n",
        "    :type empty_lists_are_null: bool\n",
        "    :param custom_nulls: an optional list of additional values to consider as null\n",
        "    :type custom_nulls: list\n",
        "    :return: True if the value is null\n",
        "    :rtype: bool\n",
        "\n",
        "    Usage::\n",
        "\n",
        "        from pewtils import is_null\n",
        "\n",
        "        >>> empty_list = []\n",
        "        >>> is_null(empty_list, empty_lists_are_null=True)\n",
        "        True\n",
        "    \"\"\"\n",
        "\n",
        "    return not is_not_null(\n",
        "        val, empty_lists_are_null=empty_lists_are_null, custom_nulls=custom_nulls\n",
        "    )\n",
        "\n",
        "\n",
        "\n",
        "def is_not_null(val, empty_lists_are_null=False, custom_nulls=None):\n",
        "\n",
        "    \"\"\"\n",
        "    Checks whether the value is null, using a variety of potential string values, etc. The following values are always\n",
        "    considered null: ``numpy.nan, None, \"None\", \"nan\", \"\", \" \", \"NaN\", \"none\", \"n/a\", \"NONE\", \"N/A\"``\n",
        "\n",
        "    :param val: The value to check\n",
        "    :param empty_lists_are_null: Whether or not an empty list or :py:class:`pandas.DataFrame` should be considered \\\n",
        "    null (default=False)\n",
        "    :type empty_lists_are_null: bool\n",
        "    :param custom_nulls: an optional list of additional values to consider as null\n",
        "    :type custom_nulls: list\n",
        "    :return: True if the value is not null\n",
        "    :rtype: bool\n",
        "\n",
        "    Usage::\n",
        "\n",
        "        from pewtils import is_not_null\n",
        "\n",
        "        >>> text = \"Hello\"\n",
        "        >>> is_not_null(text)\n",
        "        True\n",
        "    \"\"\"\n",
        "\n",
        "    null_values = [None, \"None\", \"nan\", \"\", \" \", \"NaN\", \"none\", \"n/a\", \"NONE\", \"N/A\"]\n",
        "    if custom_nulls:\n",
        "        null_values.extend(custom_nulls)\n",
        "    if type(val) == list:\n",
        "        if empty_lists_are_null and val == []:\n",
        "            return False\n",
        "        else:\n",
        "            return True\n",
        "    elif isinstance(val, pd.Series) or isinstance(val, pd.DataFrame):\n",
        "        if empty_lists_are_null and len(val) == 0:\n",
        "            return False\n",
        "        else:\n",
        "            return True\n",
        "    else:\n",
        "        try:\n",
        "            try:\n",
        "                good = val not in null_values\n",
        "                if good:\n",
        "                    try:\n",
        "                        try:\n",
        "                            good = not pd.isnull(val)\n",
        "                        except IndexError:\n",
        "                            good = True\n",
        "                    except AttributeError:\n",
        "                        good = True\n",
        "                return good\n",
        "            except ValueError:\n",
        "                return val.any()\n",
        "        except TypeError:\n",
        "            return not isinstance(val, None)\n",
        "\n",
        "\n",
        "\n",
        "\n",
        "def scale_range(old_val, old_min, old_max, new_min, new_max):\n",
        "\n",
        "    \"\"\"\n",
        "    Scales a value from one range to another.  Useful for comparing values from different scales, for example.\n",
        "\n",
        "    :param old_val: The value to convert\n",
        "    :type old_val: int or float\n",
        "    :param old_min: The minimum of the old range\n",
        "    :type old_min: int or float\n",
        "    :param old_max: The maximum of the old range\n",
        "    :type old_max: int or float\n",
        "    :param new_min: The minimum of the new range\n",
        "    :type new_min: int or float\n",
        "    :param new_max: The maximum of the new range\n",
        "    :type new_max: int or float\n",
        "    :return: Value equivalent from the new scale\n",
        "    :rtype: float\n",
        "\n",
        "    Usage::\n",
        "\n",
        "        from pewtils import scale_range\n",
        "\n",
        "        >>> old_value = 5\n",
        "        >>> scale_range(old_value, 0, 10, 0, 20)\n",
        "        10.0\n",
        "    \"\"\"\n",
        "\n",
        "    return (\n",
        "        ((float(old_val) - float(old_min)) * (float(new_max) - float(new_min)))\n",
        "        / (float(old_max) - float(old_min))\n",
        "    ) + float(new_min)"
      ],
      "metadata": {
        "id": "FgLEFSrt3vVZ",
        "execution": {
          "iopub.status.busy": "2024-11-20T15:28:47.454362Z",
          "iopub.execute_input": "2024-11-20T15:28:47.455209Z",
          "iopub.status.idle": "2024-11-20T15:28:47.465364Z",
          "shell.execute_reply.started": "2024-11-20T15:28:47.455172Z",
          "shell.execute_reply": "2024-11-20T15:28:47.464554Z"
        },
        "trusted": true
      },
      "execution_count": null,
      "outputs": []
    },
    {
      "cell_type": "code",
      "source": [
        "\n",
        "def compute_mutual_info(y, x, weights=None, col_names=None, l=0, normalize=True):\n",
        "\n",
        "    \"\"\"\n",
        "    Computes pointwise mutual information for a set of observations partitioned into two groups.\n",
        "\n",
        "    :param y: An array or, preferably, a :py:class:`pandas.Series`\n",
        "    :param x: A matrix, :py:class:`pandas.DataFrame`, or preferably a :py:class:`scipy.sparse.csr_matrix`\n",
        "    :param weights: (Optional) An array of weights corresponding to each observation\n",
        "    :param col_names: The feature names associated with the columns in matrix 'x'\n",
        "    :type col_names: list\n",
        "    :param l: An optional Laplace smoothing parameter\n",
        "    :type l: int or float\n",
        "    :param normalize: Toggle normalization on or off (to control for feature prevalance), on by default\n",
        "    :type normalize: bool\n",
        "    :return: A :py:class:`pandas.DataFrame` of features with a variety of computed metrics including mutual information.\n",
        "\n",
        "    The function expects ``y`` to correspond to a list or series of values indicating which partition an observation \\\n",
        "    belongs to. ``y`` must be a binary flag. ``x`` is a set of features (either a :py:class:`pandas.DataFrame` or \\\n",
        "    sparse matrix) where the rows correspond to observations and the columns represent the presence of features (you \\\n",
        "    can technically run this using non-binary features but the results will not be as readily interpretable.) The \\\n",
        "    function returns a :py:class:`pandas.DataFrame` of metrics computed for each feature, including the following \\\n",
        "    columns:\n",
        "\n",
        "    - ``MI1``: The feature's mutual information for the positive class\n",
        "    - ``MI0``: The feature's mutual information for the negative class\n",
        "    - ``total``: The total number of times a feature appeared\n",
        "    - ``total_pos_with_term``: The total number of times a feature appeared in positive cases\n",
        "    - ``total_neg_with_term``: The total number of times a feature appeared in negative cases\n",
        "    - ``total_pos_neg_with_term_diff``: The raw difference in the number of times a feature appeared in positive cases \\\n",
        "    relative to negative cases\n",
        "    - ``pct_pos_with_term``: The proportion of positive cases that had the feature\n",
        "    - ``pct_neg_with_term``: The proportion of negative cases that had the feature\n",
        "    - ``pct_pos_neg_with_term_ratio``: A likelihood ratio indicating the degree to which a positive case was more likely \\\n",
        "    to have the feature than a negative case\n",
        "    - ``pct_term_pos``: Of the cases that had a feature, the proportion that were in the positive class\n",
        "    - ``pct_term_neg``: Of the cases that had a feature, the proportion that were in the negative class\n",
        "    - ``pct_term_pos_neg_diff``: The percentage point difference between the proportion of cases with the feature that \\\n",
        "    were positive vs. negative\n",
        "    - ``pct_term_pos_neg_ratio``: A likelihood ratio indicating the degree to which a feature was more likely to appear \\\n",
        "    in a positive case relative to a negative one (may not be meaningful when classes are imbalanced)\n",
        "\n",
        "    .. note:: Note that ``pct_term_pos`` and ``pct_term_neg`` may not be directly comparable if classes are imbalanced, \\\n",
        "        and in such cases a ``pct_term_pos_neg_diff`` above zero or ``pct_term_pos_neg_ratio`` above 1 may not indicate a \\\n",
        "        true association with the positive class if positive cases outnumber negative ones.\n",
        "\n",
        "    .. note:: Mutual information can be a difficult metric to explain to others. We've found that the \\\n",
        "        ``pct_pos_neg_with_term_ratio`` can serve as a more interpretable alternative method for identifying \\\n",
        "        meaningful differences between groups.\n",
        "\n",
        "    Usage::\n",
        "\n",
        "        from pewanalytics.stats.mutual_info import compute_mutual_info\n",
        "        import nltk\n",
        "        import pandas as pd\n",
        "        from sklearn.metrics.pairwise import linear_kernel\n",
        "        from sklearn.feature_extraction.text import TfidfVectorizer\n",
        "\n",
        "        nltk.download(\"inaugural\")\n",
        "        df = pd.DataFrame([\n",
        "            {\"speech\": fileid, \"text\": nltk.corpus.inaugural.raw(fileid)} for fileid in nltk.corpus.inaugural.fileids()\n",
        "        ])\n",
        "        df['year'] = df['speech'].map(lambda x: int(x.split(\"-\")[0]))\n",
        "        df['21st_century'] = df['year'].map(lambda x: 1 if x >= 2000 else 0)\n",
        "\n",
        "        vec = TfidfVectorizer(min_df=10, max_df=.9).fit(df['text'])\n",
        "        tfidf = vec.transform(df['text'])\n",
        "\n",
        "        # Here are the terms most distinctive of inaugural addresses in the 21st century vs. years prior\n",
        "\n",
        "        >>> results = compute_mutual_info(df['21st_century'], tfidf, col_names=vec.get_feature_names())\n",
        "\n",
        "        >>> results.sort_values(\"MI1\", ascending=False).index[:25]\n",
        "        Index(['america', 'thank', 'bless', 'schools', 'ideals', 'americans',\n",
        "               'meaning', 'you', 'move', 'across', 'courage', 'child', 'birth',\n",
        "               'generation', 'families', 'build', 'hard', 'promise', 'choice', 'women',\n",
        "               'guided', 'words', 'blood', 'dignity', 'because'],\n",
        "              dtype='object')\n",
        "\n",
        "    \"\"\"\n",
        "\n",
        "    if is_not_null(weights):\n",
        "        weights = weights.fillna(0)\n",
        "        y0 = sum(weights[y == 0])\n",
        "        y1 = sum(weights[y == 1])\n",
        "        total = sum(weights)\n",
        "    else:\n",
        "        y0 = len(y[y == 0])\n",
        "        y1 = len(y[y == 1])\n",
        "        total = y1 + y0\n",
        "\n",
        "    if type(x).__name__ == \"csr_matrix\":\n",
        "\n",
        "        if is_not_null(weights):\n",
        "            x = x.transpose().multiply(csr_matrix(weights)).transpose()\n",
        "        x1 = pd.Series(x.sum(axis=0).tolist()[0])\n",
        "        x0 = total - x1\n",
        "        x1y0 = pd.Series(\n",
        "            x[np.ravel(np.array(y[y == 0].index)), :].sum(axis=0).tolist()[0]\n",
        "        )\n",
        "        x1y1 = pd.Series(\n",
        "            x[np.ravel(np.array(y[y == 1].index)), :].sum(axis=0).tolist()[0]\n",
        "        )\n",
        "\n",
        "    else:\n",
        "\n",
        "        if type(x).__name__ != \"DataFrame\":\n",
        "            x = pd.DataFrame(x, columns=col_names)\n",
        "\n",
        "        if is_not_null(weights):\n",
        "            x = x.multiply(weights, axis=\"index\")\n",
        "            x1 = x.multiply(weights, axis=\"index\").sum()\n",
        "            x0 = ((x * -1) + 1).multiply(weights, axis=\"index\").sum()\n",
        "        else:\n",
        "            x1 = x.sum()\n",
        "            x0 = ((x * -1) + 1).sum()\n",
        "        x1y0 = x[y == 0].sum()\n",
        "        x1y1 = x[y == 1].sum()\n",
        "\n",
        "    px1y0 = x1y0 / total\n",
        "    px1y1 = x1y1 / total\n",
        "    px0y0 = (y0 - x1y0) / total\n",
        "    px0y1 = (y1 - x1y1) / total\n",
        "\n",
        "    px1 = x1 / total\n",
        "    px0 = x0 / total\n",
        "    py1 = float(y1) / float(total)\n",
        "    py0 = float(y0) / float(total)\n",
        "\n",
        "    MI1 = (px1y1 / (px1 * py1) + l).map(lambda v: math.log(v, 2) if v > 0 else 0)\n",
        "    if normalize:\n",
        "        MI1 = MI1 / (-1 * px1y1.map(lambda v: math.log(v, 2) if v > 0 else 0))\n",
        "\n",
        "    MI0 = (px1y0 / (px1 * py0) + l).map(lambda v: math.log(v, 2) if v > 0 else 0)\n",
        "    if normalize:\n",
        "        MI0 = MI0 / (-1 * px1y0.map(lambda v: math.log(v, 2) if v > 0 else 0))\n",
        "\n",
        "    df = pd.DataFrame()\n",
        "\n",
        "    df[\"MI1\"] = MI1\n",
        "    df[\"MI0\"] = MI0\n",
        "\n",
        "    df[\"total\"] = x1\n",
        "    df[\"total_pos_with_term\"] = x1y1  # total_pos_mention\n",
        "    df[\"total_neg_with_term\"] = x1y0  # total_neg_mention\n",
        "    df[\"total_pos_neg_with_term_diff\"] = (\n",
        "        df[\"total_pos_with_term\"] - df[\"total_neg_with_term\"]\n",
        "    )\n",
        "    df[\"pct_with_term\"] = x1 / (x1 + x0)\n",
        "    df[\"pct_pos_with_term\"] = x1y1 / y1  # pct_pos_mention\n",
        "    df[\"pct_neg_with_term\"] = x1y0 / y0  # pct_neg_mention\n",
        "    df[\"pct_pos_neg_with_term_diff\"] = (\n",
        "        df[\"pct_pos_with_term\"] - df[\"pct_neg_with_term\"]\n",
        "    )  # pct_pos_neg_mention_diff\n",
        "    df[\"pct_pos_neg_with_term_ratio\"] = df[\"pct_pos_with_term\"] / (\n",
        "        df[\"pct_neg_with_term\"]\n",
        "    )  # pct_pos_neg_mention_ratio\n",
        "\n",
        "    df[\"pct_term_pos\"] = x1y1 / x1  # pct_mention_pos\n",
        "    df[\"pct_term_neg\"] = x1y0 / x1  # pct_mention_neg\n",
        "    df[\"pct_term_pos_neg_diff\"] = (\n",
        "        df[\"pct_term_pos\"] - df[\"pct_term_neg\"]\n",
        "    )  # pct_mention_pos_neg_diff\n",
        "    df[\"pct_term_pos_neg_ratio\"] = df[\"pct_term_pos\"] / df[\"pct_term_neg\"]\n",
        "\n",
        "    if col_names is not None and len(col_names) > 0:\n",
        "        df.index = col_names\n",
        "\n",
        "    return df\n",
        "\n",
        "\n",
        "def mutual_info_bar_plot(\n",
        "    mutual_info,\n",
        "    filter_col=\"MI1\",\n",
        "    top_n=50,\n",
        "    x_col=\"pct_term_pos_neg_ratio\",\n",
        "    color=\"grey\",\n",
        "    title=None,\n",
        "    width=10,\n",
        "):\n",
        "    \"\"\"\n",
        "    Takes a mutual information table generated by :py:func:`pewanalytics.stats.mutual_info.compute_mutual_info`, \\\n",
        "    and generates a bar plot of top features. Allows for an easy visualization of feature differences. Can \\\n",
        "    subsequently call :py:func:`plt.show` or :py:func:`plt.savefig` to display or save the plot.\n",
        "\n",
        "    :param mutual_info: A mutual information table generated by \\\n",
        "    :py:func:`pewanalytics.stats.mutual_info.compute_mutual_info`\n",
        "    :param filter_col: The column to use when selecting top features; sorts in descending order and picks the \\\n",
        "    top ``top_n``\n",
        "    :type filter_col: str\n",
        "    :param top_n: The number of features to display\n",
        "    :type top_n: int\n",
        "    :param x_col: The column by which to sort the final set of top features (after they have been selected by \\\n",
        "    ``filter_col``\n",
        "    :type x_col: str\n",
        "    :param color: The color of the bars\n",
        "    :type color: str\n",
        "    :param title: The title of the plot\n",
        "    :type title: str\n",
        "    :param width: The width of the plot\n",
        "    :type width: int\n",
        "    :return: A Matplotlib figure, which you can display via ``plt.show()`` or alternatively save to a file via \\\n",
        "    ``plt.savefig(FILEPATH)``\n",
        "    \"\"\"\n",
        "\n",
        "    import seaborn\n",
        "    import matplotlib.pyplot as plt\n",
        "\n",
        "    mutual_info = mutual_info.sort_values(filter_col, ascending=False)[:top_n]\n",
        "    mutual_info = mutual_info.sort_values(x_col, ascending=False)\n",
        "    mutual_info[\"ngram\"] = mutual_info.index\n",
        "    buffer = 0.02 * abs(mutual_info[x_col].max() - mutual_info[x_col].min())\n",
        "    plt.figure(figsize=(width, float(len(mutual_info) * 0.35)))\n",
        "    seaborn.set_color_codes(\"pastel\")  # noqa: F821\n",
        "    g = seaborn.barplot(x=x_col, y=\"ngram\", data=mutual_info, color=color)  # noqa: F821\n",
        "    seaborn.despine(offset=10, trim=True)  # noqa: F821\n",
        "    for i, row in enumerate(mutual_info.iterrows()):\n",
        "        index, row = row\n",
        "        g.text(\n",
        "            x=row[x_col] + buffer,\n",
        "            y=i,\n",
        "            s=row[\"ngram\"],\n",
        "            horizontalalignment=\"left\",\n",
        "            verticalalignment=\"center\",\n",
        "            size=\"large\",\n",
        "            color=color,\n",
        "        )\n",
        "    g.set_title(title)\n",
        "\n",
        "    return g\n",
        "\n",
        "\n",
        "def mutual_info_scatter_plot(\n",
        "    mutual_info,\n",
        "    filter_col=\"MI0\",\n",
        "    top_n=25,\n",
        "    x_col=\"pct_term_pos_neg_ratio\",\n",
        "    xlabel=None,\n",
        "    scale_x_even=True,\n",
        "    y_col=\"MI1\",\n",
        "    ylabel=None,\n",
        "    scale_y_even=True,\n",
        "    color=\"grey\",\n",
        "    color_col=\"MI0\",\n",
        "    size_col=\"pct_pos_with_term\",\n",
        "    title=None,\n",
        "    figsize=(10, 10),\n",
        "    adjust_text=False,\n",
        "):\n",
        "    \"\"\"\n",
        "\n",
        "    Takes a mutual information table generated by :py:func:`pewanalytics.stats.mutual_info.compute_mutual_info`, \\\n",
        "    and generates a scatter plot of top features.\n",
        "    The names of the features will be displayed with varying colors and sizes depending on the variables specified\n",
        "    in ``color_col`` and ``size_col``. Allows for an easy visualization of feature differences. Can subsequently\n",
        "    call :py:func:`plt.show` or :py:func:`plt.savefig` to display or save the plot.\n",
        "\n",
        "    :param mutual_info: A mutual information table generated by \\\n",
        "    :py:func:`pewanalytics.stats.mutual_info.compute_mutual_info`\n",
        "    :param filter_col: The column to use when selecting top features; sorts in descending order and picks the top \\\n",
        "    ``top_n``\n",
        "    :type filter_col: str\n",
        "    :param top_n: The number of features to display\n",
        "    :type top_n: int\n",
        "    :param x_col: The column to use as the x-axis\n",
        "    :type x_col: str\n",
        "    :param xlabel: Label for the x-axis\n",
        "    :type xlabel: str\n",
        "    :param scale_x_even: If True, set values to their ordered rank (allows for even spacing)\n",
        "    :type scale_x_even: bool\n",
        "    :param y_col: The column to use as the y-axis\n",
        "    :type y_col: str\n",
        "    :param ylabel: Label for the y-axis\n",
        "    :type ylabel: str\n",
        "    :param scale_y_even: If True, set values to their ordered rank (allows for even spacing)\n",
        "    :type scale_y_even: bool\n",
        "    :param color: The color for the features\n",
        "    :type color: str\n",
        "    :param color_col: The column to use when shading the features\n",
        "    :type color_col: str\n",
        "    :param size_col: The column to use to size the features\n",
        "    :type size_col: str\n",
        "    :param title: The title of the plot\n",
        "    :type title: str\n",
        "    :param figsize: The size of the plot (tuple)\n",
        "    :type figsize: tuple\n",
        "    :param adjust_text: If True, attempts to adjusts the text so it doesn't overlap\n",
        "    :type adjust_text: bool\n",
        "    :return: A Matplotlib figure, which you can display via ``plt.show()`` or alternatively save to a file via \\\n",
        "    ``plt.savefig(FILEPATH)``\n",
        "    \"\"\"\n",
        "\n",
        "    import seaborn\n",
        "    import matplotlib.pyplot as plt\n",
        "\n",
        "    mutual_info = mutual_info.sort_values(filter_col, ascending=False)[:top_n]\n",
        "\n",
        "    if scale_x_even:\n",
        "        mutual_info = mutual_info.sort_values(x_col)\n",
        "        mutual_info[\"{}_rank\".format(x_col)] = mutual_info.reset_index().index + 1\n",
        "        x_col = \"{}_rank\".format(x_col)\n",
        "    if scale_y_even:\n",
        "        mutual_info = mutual_info.sort_values(y_col)\n",
        "        mutual_info[\"{}_rank\".format(y_col)] = mutual_info.reset_index().index + 1\n",
        "        y_col = \"{}_rank\".format(y_col)\n",
        "\n",
        "    color_maps = {\n",
        "        \"grey\": plt.cm.Greys,\n",
        "        \"purple\": plt.cm.Purples,\n",
        "        \"blue\": plt.cm.Blues,\n",
        "        \"green\": plt.cm.Greens,\n",
        "        \"orange\": plt.cm.Oranges,\n",
        "        \"red\": plt.cm.Reds,\n",
        "    }\n",
        "\n",
        "    _, ax = plt.subplots(figsize=figsize)\n",
        "    seaborn.scatterplot(\n",
        "        data=mutual_info, x=x_col, y=y_col, legend=False, alpha=0.0, ax=ax\n",
        "    )  # noqa: F821\n",
        "    seaborn.set_color_codes(\"pastel\")  # noqa: F821\n",
        "\n",
        "    mutual_info[\"size\"] = mutual_info[size_col].map(\n",
        "        lambda x: scale_range(\n",
        "            x,\n",
        "            mutual_info[size_col].min(),\n",
        "            mutual_info[size_col].max(),\n",
        "            (figsize[0] * 3),\n",
        "            (figsize[0] * 5),\n",
        "        )\n",
        "    )\n",
        "    mutual_info[\"color\"] = mutual_info[color_col].map(\n",
        "        lambda x: scale_range(\n",
        "            x, mutual_info[color_col].min(), mutual_info[color_col].max(), 0.4, 1\n",
        "        )\n",
        "    )\n",
        "    mutual_info[\"color\"] = mutual_info[\"color\"].map(color_maps[color])\n",
        "\n",
        "    mutual_info[\"x\"] = mutual_info[x_col]\n",
        "    mutual_info[\"y\"] = mutual_info[y_col]\n",
        "    ax.set_title(title)\n",
        "    ax.set_xlim((mutual_info[\"x\"].min(), mutual_info[\"x\"].max()))\n",
        "    ax.set_ylim((mutual_info[\"y\"].min(), mutual_info[\"y\"].max()))\n",
        "    ax.set_ylabel(ylabel)\n",
        "    ax.set_xlabel(xlabel)\n",
        "\n",
        "    texts = []\n",
        "    for index, row in mutual_info.iterrows():\n",
        "        texts.append(\n",
        "            ax.text(\n",
        "                row[\"x\"],\n",
        "                row[\"y\"],\n",
        "                index,\n",
        "                size=row[\"size\"],\n",
        "                color=row[\"color\"],\n",
        "                horizontalalignment=\"right\"\n",
        "                if row[\"x\"] > (mutual_info[\"x\"].max() / 2.0)\n",
        "                else \"left\",\n",
        "                verticalalignment=\"top\"\n",
        "                if row[\"y\"] > (mutual_info[\"y\"].max() / 2.0)\n",
        "                else \"bottom\",\n",
        "            )\n",
        "        )\n",
        "    if adjust_text:\n",
        "        adjust_text_function(\n",
        "            texts, arrowprops=dict(arrowstyle=\"-\", color=\"black\", lw=0.5, alpha=0.5)\n",
        "        )\n",
        "\n",
        "    seaborn.despine(offset=10, trim=True)  # noqa: F821\n",
        "\n",
        "    return ax\n"
      ],
      "metadata": {
        "id": "6qM-JD7N3vVa",
        "execution": {
          "iopub.status.busy": "2024-11-20T15:28:50.374725Z",
          "iopub.execute_input": "2024-11-20T15:28:50.375043Z",
          "iopub.status.idle": "2024-11-20T15:28:50.404754Z",
          "shell.execute_reply.started": "2024-11-20T15:28:50.375017Z",
          "shell.execute_reply": "2024-11-20T15:28:50.403916Z"
        },
        "trusted": true
      },
      "execution_count": null,
      "outputs": []
    },
    {
      "cell_type": "code",
      "source": [
        "# liwc_analysis = pd.read_csv('../Documents/Social Data Science - Masters/Thesis/Data/LIWC-22 Results - guardian_classified_clean - LIWC Analysis.csv')"
      ],
      "metadata": {
        "id": "zUms_hrp3vVb",
        "execution": {
          "iopub.status.busy": "2024-11-20T15:28:51.83214Z",
          "iopub.execute_input": "2024-11-20T15:28:51.832535Z",
          "iopub.status.idle": "2024-11-20T15:28:51.836692Z",
          "shell.execute_reply.started": "2024-11-20T15:28:51.8325Z",
          "shell.execute_reply": "2024-11-20T15:28:51.835765Z"
        },
        "trusted": true
      },
      "execution_count": null,
      "outputs": []
    },
    {
      "cell_type": "code",
      "source": [
        "liwc_analysis_men = pd.read_csv('/kaggle/input/liwc-analysis-men-csv/liwc_analysis_men.csv')\n"
      ],
      "metadata": {
        "id": "_Yspbhbx3vVc",
        "execution": {
          "iopub.status.busy": "2024-11-20T15:26:40.814433Z",
          "iopub.execute_input": "2024-11-20T15:26:40.81502Z",
          "iopub.status.idle": "2024-11-20T15:26:49.775168Z",
          "shell.execute_reply.started": "2024-11-20T15:26:40.814988Z",
          "shell.execute_reply": "2024-11-20T15:26:49.774214Z"
        },
        "trusted": true
      },
      "execution_count": null,
      "outputs": []
    },
    {
      "cell_type": "code",
      "source": [
        "liwc_analysis_women = pd.read_csv('/kaggle/input/liwc-analysis-men-csv/liwc_analysis_women.csv')\n"
      ],
      "metadata": {
        "execution": {
          "iopub.status.busy": "2024-11-20T15:26:53.537729Z",
          "iopub.execute_input": "2024-11-20T15:26:53.538052Z",
          "iopub.status.idle": "2024-11-20T15:26:54.151107Z",
          "shell.execute_reply.started": "2024-11-20T15:26:53.538024Z",
          "shell.execute_reply": "2024-11-20T15:26:54.150425Z"
        },
        "trusted": true,
        "id": "O--9dhvdNxl6"
      },
      "execution_count": null,
      "outputs": []
    },
    {
      "cell_type": "code",
      "source": [
        "\n",
        "\n",
        "# Sample data (assuming liwc_analysis_men and liwc_analysis_women are DataFrames)\n",
        "# Test for the first 10 rows of the 'article_text' column\n",
        "men_text = [str(text).split() for text in liwc_analysis_men['article_text'] if text is not None]\n",
        "women_text = [str(text).split() for text in liwc_analysis_women['article_text'] if text is not None]\n",
        "\n",
        "# Join the lists back into strings so they are ready for vectorization\n",
        "men_text = [\" \".join(text) for text in men_text]\n",
        "women_text = [\" \".join(text) for text in women_text]\n",
        "\n",
        "# Combine both men_text and women_text for vectorization\n",
        "vectorizer = CountVectorizer()\n",
        "X = vectorizer.fit_transform(men_text + women_text)\n",
        "\n",
        "# Convert to dense format if necessary\n",
        "X_dense = X.toarray()\n",
        "\n",
        "# Define labels: 0 for men, 1 for women\n",
        "y = np.array([0] * len(men_text) + [1] * len(women_text))\n",
        "\n",
        "# Define column names for the features\n",
        "col_names = vectorizer.get_feature_names_out()\n",
        "\n",
        "# Compute mutual information\n",
        "result_full = compute_mutual_info(y, X_dense, col_names=col_names)\n",
        "\n"
      ],
      "metadata": {
        "id": "xlTvKJ603vVd",
        "execution": {
          "iopub.status.busy": "2024-11-20T15:26:57.778913Z",
          "iopub.execute_input": "2024-11-20T15:26:57.779336Z"
        },
        "trusted": true
      },
      "execution_count": null,
      "outputs": []
    },
    {
      "cell_type": "code",
      "source": [
        "# save result full\n",
        "result_full.to_csv('/content/drive/MyDrive/SDS/Thesis/Data/pmi_result_full.csv')"
      ],
      "metadata": {
        "id": "65bRxuVDJa9b"
      },
      "execution_count": null,
      "outputs": []
    },
    {
      "cell_type": "code",
      "source": [
        "# womens text\n",
        "result_full.sort_values(\"MI1\", ascending=False).index[:50]"
      ],
      "metadata": {
        "id": "wIyj0O223vVd",
        "execution": {
          "iopub.status.busy": "2024-11-20T13:21:27.535894Z",
          "iopub.execute_input": "2024-11-20T13:21:27.536817Z",
          "iopub.status.idle": "2024-11-20T13:21:27.562365Z",
          "shell.execute_reply.started": "2024-11-20T13:21:27.536765Z",
          "shell.execute_reply": "2024-11-20T13:21:27.561338Z"
        },
        "trusted": true
      },
      "execution_count": null,
      "outputs": []
    },
    {
      "cell_type": "code",
      "source": [
        "# mens text\n",
        "result_full.sort_values(\"MI0\", ascending=False).index[:50]"
      ],
      "metadata": {
        "id": "72t7xEx_3vVe",
        "execution": {
          "iopub.status.busy": "2024-11-20T13:21:30.431382Z",
          "iopub.execute_input": "2024-11-20T13:21:30.432312Z",
          "iopub.status.idle": "2024-11-20T13:21:30.457614Z",
          "shell.execute_reply.started": "2024-11-20T13:21:30.432269Z",
          "shell.execute_reply": "2024-11-20T13:21:30.456607Z"
        },
        "trusted": true
      },
      "execution_count": null,
      "outputs": []
    },
    {
      "cell_type": "code",
      "source": [
        "mutual_info_bar_plot(result_full)"
      ],
      "metadata": {
        "id": "EA7MWOTc3vVe"
      },
      "execution_count": null,
      "outputs": []
    },
    {
      "cell_type": "code",
      "source": [
        "mutual_info_scatter_plot(result_full)"
      ],
      "metadata": {
        "id": "ss1VCuLw938Z"
      },
      "execution_count": null,
      "outputs": []
    },
    {
      "cell_type": "code",
      "source": [
        "mutual_info_scatter_plot(result_full)"
      ],
      "metadata": {
        "id": "usuo3GIP-A31"
      },
      "execution_count": null,
      "outputs": []
    },
    {
      "cell_type": "code",
      "source": [
        "# create version where i remove stopwords to compare"
      ],
      "metadata": {
        "id": "P9tgf_NU-RWy"
      },
      "execution_count": null,
      "outputs": []
    },
    {
      "cell_type": "code",
      "source": [
        "\n",
        "# Sample data (assuming liwc_analysis_men and liwc_analysis_women are DataFrames)\n",
        "# Test for the first 10 rows of the 'article_text' column\n",
        "men_text = [str(text).split() for text in subsample_men['article_text'] if text is not None]\n",
        "women_text = [str(text).split() for text in liwc_analysis_women['article_text'] if text is not None]\n",
        "\n",
        "# Join the lists back into strings so they are ready for vectorization\n",
        "men_text = [\" \".join(text) for text in men_text]\n",
        "women_text = [\" \".join(text) for text in women_text]\n",
        "\n",
        "# Combine both men_text and women_text for vectorization\n",
        "# Here we set stop_words='english' to remove common stop words\n",
        "vectorizer = CountVectorizer(stop_words='english')\n",
        "X = vectorizer.fit_transform(men_text + women_text)\n",
        "\n",
        "# Convert to dense format if necessary\n",
        "X_dense = X.toarray()\n",
        "\n",
        "# Define labels: 0 for men, 1 for women\n",
        "y = np.array([0] * len(men_text) + [1] * len(women_text))\n",
        "\n",
        "# Define column names for the features\n",
        "col_names = vectorizer.get_feature_names_out()\n",
        "\n",
        "# Compute mutual information\n",
        "result_full_stopwords = compute_mutual_info(y, X_dense, col_names=col_names)\n"
      ],
      "metadata": {
        "id": "IwI6-RYAKwuH",
        "execution": {
          "iopub.status.busy": "2024-11-20T13:11:35.006386Z",
          "iopub.execute_input": "2024-11-20T13:11:35.00679Z",
          "iopub.status.idle": "2024-11-20T13:11:49.103311Z",
          "shell.execute_reply.started": "2024-11-20T13:11:35.006753Z",
          "shell.execute_reply": "2024-11-20T13:11:49.102178Z"
        },
        "trusted": true
      },
      "execution_count": null,
      "outputs": []
    },
    {
      "cell_type": "code",
      "source": [
        "# womens text\n",
        "result_full_stopwords.sort_values(\"MI1\", ascending=False).index[:50]"
      ],
      "metadata": {
        "id": "A3saAVCuLPoK",
        "execution": {
          "iopub.status.busy": "2024-11-20T13:11:52.460565Z",
          "iopub.execute_input": "2024-11-20T13:11:52.461622Z",
          "iopub.status.idle": "2024-11-20T13:11:52.496169Z",
          "shell.execute_reply.started": "2024-11-20T13:11:52.461569Z",
          "shell.execute_reply": "2024-11-20T13:11:52.494984Z"
        },
        "trusted": true
      },
      "execution_count": null,
      "outputs": []
    },
    {
      "cell_type": "code",
      "source": [
        "# mens text\n",
        "result_full_stopwords.sort_values(\"MI0\", ascending=False).index[:50]"
      ],
      "metadata": {
        "execution": {
          "iopub.status.busy": "2024-11-20T13:11:55.770071Z",
          "iopub.execute_input": "2024-11-20T13:11:55.770452Z",
          "iopub.status.idle": "2024-11-20T13:11:55.796588Z",
          "shell.execute_reply.started": "2024-11-20T13:11:55.770417Z",
          "shell.execute_reply": "2024-11-20T13:11:55.795605Z"
        },
        "trusted": true,
        "id": "vrtbiupVNxl7"
      },
      "execution_count": null,
      "outputs": []
    },
    {
      "cell_type": "code",
      "source": [
        "mutual_info_scatter_plot(result_full_stopwords)"
      ],
      "metadata": {
        "execution": {
          "iopub.status.busy": "2024-11-07T16:57:37.248239Z",
          "iopub.execute_input": "2024-11-07T16:57:37.248628Z",
          "iopub.status.idle": "2024-11-07T16:57:38.730408Z",
          "shell.execute_reply.started": "2024-11-07T16:57:37.24859Z",
          "shell.execute_reply": "2024-11-07T16:57:38.729639Z"
        },
        "trusted": true,
        "id": "0xgrOZKvNxl7"
      },
      "execution_count": null,
      "outputs": []
    },
    {
      "cell_type": "code",
      "source": [
        "mutual_info_scatter_plot(result_full_stopwords)"
      ],
      "metadata": {
        "execution": {
          "iopub.status.busy": "2024-11-07T16:59:17.073411Z",
          "iopub.execute_input": "2024-11-07T16:59:17.07376Z",
          "iopub.status.idle": "2024-11-07T16:59:17.353248Z",
          "shell.execute_reply.started": "2024-11-07T16:59:17.073733Z",
          "shell.execute_reply": "2024-11-07T16:59:17.352604Z"
        },
        "trusted": true,
        "id": "-4egWb4pNxl7"
      },
      "execution_count": null,
      "outputs": []
    },
    {
      "cell_type": "code",
      "source": [
        "# save result full\n",
        "result_full_stopwords.to_csv('/kaggle/working/pmi_result_stopwords.csv')"
      ],
      "metadata": {
        "execution": {
          "iopub.status.busy": "2024-11-07T16:57:58.128548Z",
          "iopub.execute_input": "2024-11-07T16:57:58.12889Z",
          "iopub.status.idle": "2024-11-07T16:58:00.085455Z",
          "shell.execute_reply.started": "2024-11-07T16:57:58.128863Z",
          "shell.execute_reply": "2024-11-07T16:58:00.084707Z"
        },
        "trusted": true,
        "id": "5JotIHN8Nxl7"
      },
      "execution_count": null,
      "outputs": []
    },
    {
      "cell_type": "code",
      "source": [
        "# read in pmi results\n",
        "pmi_results = pd.read_csv('/kaggle/input/pmi-scores/pmi_result_full.csv')"
      ],
      "metadata": {
        "execution": {
          "iopub.status.busy": "2024-11-20T15:28:59.450995Z",
          "iopub.execute_input": "2024-11-20T15:28:59.451466Z",
          "iopub.status.idle": "2024-11-20T15:29:00.122118Z",
          "shell.execute_reply.started": "2024-11-20T15:28:59.451434Z",
          "shell.execute_reply": "2024-11-20T15:29:00.121299Z"
        },
        "trusted": true,
        "id": "Gq4099c7Nxl7"
      },
      "execution_count": null,
      "outputs": []
    },
    {
      "cell_type": "code",
      "source": [
        "pmi_results.head()"
      ],
      "metadata": {
        "execution": {
          "iopub.status.busy": "2024-11-20T15:29:02.283839Z",
          "iopub.execute_input": "2024-11-20T15:29:02.284741Z",
          "iopub.status.idle": "2024-11-20T15:29:02.309727Z",
          "shell.execute_reply.started": "2024-11-20T15:29:02.284699Z",
          "shell.execute_reply": "2024-11-20T15:29:02.308908Z"
        },
        "trusted": true,
        "id": "jagqcbFDNxl7",
        "outputId": "98ec13b0-d6e2-4b11-b6b7-9a3d5c4c17a1"
      },
      "execution_count": null,
      "outputs": [
        {
          "execution_count": 8,
          "output_type": "execute_result",
          "data": {
            "text/plain": "   Unnamed: 0       MI1       MI0  total  total_pos_with_term  \\\n0          00 -0.028921  0.002902    434                   23   \n1         000  0.062718 -0.012728  12330                 1050   \n2        0000       NaN  0.006990      3                    0   \n3       00000       NaN  0.006287      1                    0   \n4  0000000000       NaN  0.006287      1                    0   \n\n   total_neg_with_term  total_pos_neg_with_term_diff  pct_with_term  \\\n0                  411                          -388       0.007802   \n1                11280                        -10230       0.221655   \n2                    3                            -3       0.000054   \n3                    1                            -1       0.000018   \n4                    1                            -1       0.000018   \n\n   pct_pos_with_term  pct_neg_with_term  pct_pos_neg_with_term_diff  \\\n0           0.006228           0.007914                   -0.001686   \n1           0.284322           0.217199                    0.067123   \n2           0.000000           0.000058                   -0.000058   \n3           0.000000           0.000019                   -0.000019   \n4           0.000000           0.000019                   -0.000019   \n\n   pct_pos_neg_with_term_ratio  pct_term_pos  pct_term_neg  \\\n0                     0.786971      0.052995      0.947005   \n1                     1.309039      0.085158      0.914842   \n2                     0.000000      0.000000      1.000000   \n3                     0.000000      0.000000      1.000000   \n4                     0.000000      0.000000      1.000000   \n\n   pct_term_pos_neg_diff  pct_term_pos_neg_ratio  \n0              -0.894009                0.055961  \n1              -0.829684                0.093085  \n2              -1.000000                0.000000  \n3              -1.000000                0.000000  \n4              -1.000000                0.000000  ",
            "text/html": "<div>\n<style scoped>\n    .dataframe tbody tr th:only-of-type {\n        vertical-align: middle;\n    }\n\n    .dataframe tbody tr th {\n        vertical-align: top;\n    }\n\n    .dataframe thead th {\n        text-align: right;\n    }\n</style>\n<table border=\"1\" class=\"dataframe\">\n  <thead>\n    <tr style=\"text-align: right;\">\n      <th></th>\n      <th>Unnamed: 0</th>\n      <th>MI1</th>\n      <th>MI0</th>\n      <th>total</th>\n      <th>total_pos_with_term</th>\n      <th>total_neg_with_term</th>\n      <th>total_pos_neg_with_term_diff</th>\n      <th>pct_with_term</th>\n      <th>pct_pos_with_term</th>\n      <th>pct_neg_with_term</th>\n      <th>pct_pos_neg_with_term_diff</th>\n      <th>pct_pos_neg_with_term_ratio</th>\n      <th>pct_term_pos</th>\n      <th>pct_term_neg</th>\n      <th>pct_term_pos_neg_diff</th>\n      <th>pct_term_pos_neg_ratio</th>\n    </tr>\n  </thead>\n  <tbody>\n    <tr>\n      <th>0</th>\n      <td>00</td>\n      <td>-0.028921</td>\n      <td>0.002902</td>\n      <td>434</td>\n      <td>23</td>\n      <td>411</td>\n      <td>-388</td>\n      <td>0.007802</td>\n      <td>0.006228</td>\n      <td>0.007914</td>\n      <td>-0.001686</td>\n      <td>0.786971</td>\n      <td>0.052995</td>\n      <td>0.947005</td>\n      <td>-0.894009</td>\n      <td>0.055961</td>\n    </tr>\n    <tr>\n      <th>1</th>\n      <td>000</td>\n      <td>0.062718</td>\n      <td>-0.012728</td>\n      <td>12330</td>\n      <td>1050</td>\n      <td>11280</td>\n      <td>-10230</td>\n      <td>0.221655</td>\n      <td>0.284322</td>\n      <td>0.217199</td>\n      <td>0.067123</td>\n      <td>1.309039</td>\n      <td>0.085158</td>\n      <td>0.914842</td>\n      <td>-0.829684</td>\n      <td>0.093085</td>\n    </tr>\n    <tr>\n      <th>2</th>\n      <td>0000</td>\n      <td>NaN</td>\n      <td>0.006990</td>\n      <td>3</td>\n      <td>0</td>\n      <td>3</td>\n      <td>-3</td>\n      <td>0.000054</td>\n      <td>0.000000</td>\n      <td>0.000058</td>\n      <td>-0.000058</td>\n      <td>0.000000</td>\n      <td>0.000000</td>\n      <td>1.000000</td>\n      <td>-1.000000</td>\n      <td>0.000000</td>\n    </tr>\n    <tr>\n      <th>3</th>\n      <td>00000</td>\n      <td>NaN</td>\n      <td>0.006287</td>\n      <td>1</td>\n      <td>0</td>\n      <td>1</td>\n      <td>-1</td>\n      <td>0.000018</td>\n      <td>0.000000</td>\n      <td>0.000019</td>\n      <td>-0.000019</td>\n      <td>0.000000</td>\n      <td>0.000000</td>\n      <td>1.000000</td>\n      <td>-1.000000</td>\n      <td>0.000000</td>\n    </tr>\n    <tr>\n      <th>4</th>\n      <td>0000000000</td>\n      <td>NaN</td>\n      <td>0.006287</td>\n      <td>1</td>\n      <td>0</td>\n      <td>1</td>\n      <td>-1</td>\n      <td>0.000018</td>\n      <td>0.000000</td>\n      <td>0.000019</td>\n      <td>-0.000019</td>\n      <td>0.000000</td>\n      <td>0.000000</td>\n      <td>1.000000</td>\n      <td>-1.000000</td>\n      <td>0.000000</td>\n    </tr>\n  </tbody>\n</table>\n</div>"
          },
          "metadata": {}
        }
      ]
    },
    {
      "cell_type": "code",
      "source": [
        "pmi_results.set_index('Unnamed: 0', inplace=True)"
      ],
      "metadata": {
        "execution": {
          "iopub.status.busy": "2024-11-20T15:29:10.479759Z",
          "iopub.execute_input": "2024-11-20T15:29:10.480122Z",
          "iopub.status.idle": "2024-11-20T15:29:10.488981Z",
          "shell.execute_reply.started": "2024-11-20T15:29:10.48009Z",
          "shell.execute_reply": "2024-11-20T15:29:10.488173Z"
        },
        "trusted": true,
        "id": "pm0wVCxHNxl7"
      },
      "execution_count": null,
      "outputs": []
    },
    {
      "cell_type": "code",
      "source": [
        "# womens text\n",
        "pmi_results.sort_values(\"MI1\", ascending=False).index[:500]"
      ],
      "metadata": {
        "execution": {
          "iopub.status.busy": "2024-11-20T15:29:12.032321Z",
          "iopub.execute_input": "2024-11-20T15:29:12.033208Z",
          "iopub.status.idle": "2024-11-20T15:29:12.063193Z",
          "shell.execute_reply.started": "2024-11-20T15:29:12.033168Z",
          "shell.execute_reply": "2024-11-20T15:29:12.062191Z"
        },
        "trusted": true,
        "id": "c1_ttRa1Nxl7",
        "outputId": "11bbcefb-8dac-43f0-d09d-5e84c02352ca"
      },
      "execution_count": null,
      "outputs": [
        {
          "execution_count": 10,
          "output_type": "execute_result",
          "data": {
            "text/plain": "Index(['her', 'she', 'women', 'kerr', 'matildas', 'hayes', 'wsl', 'mead',\n       'bronze', 'wiegman',\n       ...\n       'sembrant', 'swaby', 'voss', 'wilms', 'woman', 'huitema', 'linari',\n       'rosengard', 'kundananji', 'gwinn'],\n      dtype='object', name='Unnamed: 0', length=500)"
          },
          "metadata": {}
        }
      ]
    },
    {
      "cell_type": "code",
      "source": [
        "women_5000_pmi = pmi_results.sort_values(\"MI1\", ascending=False).index[:5000].tolist()\n"
      ],
      "metadata": {
        "execution": {
          "iopub.status.busy": "2024-11-20T15:29:24.528173Z",
          "iopub.execute_input": "2024-11-20T15:29:24.528791Z",
          "iopub.status.idle": "2024-11-20T15:29:24.572588Z",
          "shell.execute_reply.started": "2024-11-20T15:29:24.528742Z",
          "shell.execute_reply": "2024-11-20T15:29:24.570354Z"
        },
        "trusted": true,
        "id": "gJ31-OV9Nxl7"
      },
      "execution_count": null,
      "outputs": []
    },
    {
      "cell_type": "code",
      "source": [
        "men_5000_pmi = pmi_results.sort_values(\"MI0\", ascending=False).index[:5000].tolist()\n"
      ],
      "metadata": {
        "execution": {
          "iopub.status.busy": "2024-11-20T15:29:25.520159Z",
          "iopub.execute_input": "2024-11-20T15:29:25.521002Z",
          "iopub.status.idle": "2024-11-20T15:29:25.565591Z",
          "shell.execute_reply.started": "2024-11-20T15:29:25.520963Z",
          "shell.execute_reply": "2024-11-20T15:29:25.564814Z"
        },
        "trusted": true,
        "id": "Jp1fTUpNNxl7"
      },
      "execution_count": null,
      "outputs": []
    },
    {
      "cell_type": "markdown",
      "source": [
        "Now for using the BERT POS tagger"
      ],
      "metadata": {
        "id": "7smS05hQNxl8"
      }
    },
    {
      "cell_type": "code",
      "source": [
        "import torch\n",
        "\n",
        "if torch.cuda.is_available():\n",
        "    print(f\"GPU is available: {torch.cuda.get_device_name(0)}\")\n",
        "else:\n",
        "    print(\"GPU is not available.\")"
      ],
      "metadata": {
        "execution": {
          "iopub.status.busy": "2024-11-20T15:29:28.136354Z",
          "iopub.execute_input": "2024-11-20T15:29:28.136733Z",
          "iopub.status.idle": "2024-11-20T15:29:31.9041Z",
          "shell.execute_reply.started": "2024-11-20T15:29:28.136703Z",
          "shell.execute_reply": "2024-11-20T15:29:31.903129Z"
        },
        "trusted": true,
        "id": "O5HbapemNxl8",
        "outputId": "17b52c60-ec5e-4bbe-f1e2-b1a235474909"
      },
      "execution_count": null,
      "outputs": [
        {
          "name": "stdout",
          "text": "GPU is available: Tesla T4\n",
          "output_type": "stream"
        }
      ]
    },
    {
      "cell_type": "code",
      "source": [
        "from transformers import pipeline\n",
        "\n",
        "classifier = pipeline(\"token-classification\", model = \"vblagoje/bert-english-uncased-finetuned-pos\", device=0)\n"
      ],
      "metadata": {
        "execution": {
          "iopub.status.busy": "2024-11-20T15:29:36.488034Z",
          "iopub.execute_input": "2024-11-20T15:29:36.488536Z",
          "iopub.status.idle": "2024-11-20T15:29:59.73597Z",
          "shell.execute_reply.started": "2024-11-20T15:29:36.488502Z",
          "shell.execute_reply": "2024-11-20T15:29:59.734916Z"
        },
        "trusted": true,
        "id": "jHvO44HdNxl8",
        "outputId": "a8ccf8e7-628f-4d24-94a3-f2d7295221ab",
        "colab": {
          "referenced_widgets": [
            "b8168a82e1af4954b8de85ff6eb2db14",
            "2b2e0f6fcba1412e93770cae3548aed1",
            "5432446ee31a4c2085e6e6d1da2f6dbd",
            "5387570c510642b186cd67e11fa23d63",
            "af876caf06dc461bb37201290718bc89"
          ]
        }
      },
      "execution_count": null,
      "outputs": [
        {
          "output_type": "display_data",
          "data": {
            "text/plain": "config.json:   0%|          | 0.00/1.06k [00:00<?, ?B/s]",
            "application/vnd.jupyter.widget-view+json": {
              "version_major": 2,
              "version_minor": 0,
              "model_id": "b8168a82e1af4954b8de85ff6eb2db14"
            }
          },
          "metadata": {}
        },
        {
          "output_type": "display_data",
          "data": {
            "text/plain": "pytorch_model.bin:   0%|          | 0.00/438M [00:00<?, ?B/s]",
            "application/vnd.jupyter.widget-view+json": {
              "version_major": 2,
              "version_minor": 0,
              "model_id": "2b2e0f6fcba1412e93770cae3548aed1"
            }
          },
          "metadata": {}
        },
        {
          "name": "stderr",
          "text": "Some weights of the model checkpoint at vblagoje/bert-english-uncased-finetuned-pos were not used when initializing BertForTokenClassification: ['bert.pooler.dense.bias', 'bert.pooler.dense.weight']\n- This IS expected if you are initializing BertForTokenClassification from the checkpoint of a model trained on another task or with another architecture (e.g. initializing a BertForSequenceClassification model from a BertForPreTraining model).\n- This IS NOT expected if you are initializing BertForTokenClassification from the checkpoint of a model that you expect to be exactly identical (initializing a BertForSequenceClassification model from a BertForSequenceClassification model).\n",
          "output_type": "stream"
        },
        {
          "output_type": "display_data",
          "data": {
            "text/plain": "tokenizer_config.json:   0%|          | 0.00/48.0 [00:00<?, ?B/s]",
            "application/vnd.jupyter.widget-view+json": {
              "version_major": 2,
              "version_minor": 0,
              "model_id": "5432446ee31a4c2085e6e6d1da2f6dbd"
            }
          },
          "metadata": {}
        },
        {
          "output_type": "display_data",
          "data": {
            "text/plain": "vocab.txt:   0%|          | 0.00/232k [00:00<?, ?B/s]",
            "application/vnd.jupyter.widget-view+json": {
              "version_major": 2,
              "version_minor": 0,
              "model_id": "5387570c510642b186cd67e11fa23d63"
            }
          },
          "metadata": {}
        },
        {
          "output_type": "display_data",
          "data": {
            "text/plain": "special_tokens_map.json:   0%|          | 0.00/112 [00:00<?, ?B/s]",
            "application/vnd.jupyter.widget-view+json": {
              "version_major": 2,
              "version_minor": 0,
              "model_id": "af876caf06dc461bb37201290718bc89"
            }
          },
          "metadata": {}
        }
      ]
    },
    {
      "cell_type": "code",
      "source": [
        "women_pmi_pos = classifier(women_5000_pmi)\n"
      ],
      "metadata": {
        "execution": {
          "iopub.status.busy": "2024-11-20T15:30:04.717685Z",
          "iopub.execute_input": "2024-11-20T15:30:04.718634Z",
          "iopub.status.idle": "2024-11-20T15:30:48.138256Z",
          "shell.execute_reply.started": "2024-11-20T15:30:04.718595Z",
          "shell.execute_reply": "2024-11-20T15:30:48.137486Z"
        },
        "trusted": true,
        "id": "R0b2bm9uNxl8"
      },
      "execution_count": null,
      "outputs": []
    },
    {
      "cell_type": "code",
      "source": [
        "men_pmi_pos = classifier(men_5000_pmi)"
      ],
      "metadata": {
        "execution": {
          "iopub.status.busy": "2024-11-20T15:31:11.04697Z",
          "iopub.execute_input": "2024-11-20T15:31:11.047483Z",
          "iopub.status.idle": "2024-11-20T15:31:53.117724Z",
          "shell.execute_reply.started": "2024-11-20T15:31:11.047438Z",
          "shell.execute_reply": "2024-11-20T15:31:53.116597Z"
        },
        "trusted": true,
        "id": "Mgt5R8kVNxl8"
      },
      "execution_count": null,
      "outputs": []
    },
    {
      "cell_type": "code",
      "source": [
        "# Extract the first entry from each list\n",
        "first_entries = []\n",
        "for article in women_pmi_pos:\n",
        "    if article:  # Check if the list is not empty\n",
        "        first_entry = article[0]\n",
        "        first_entries.append({\n",
        "            'POS_Tag': first_entry['entity'],\n",
        "            'Confidence_Score': first_entry['score']\n",
        "        })\n",
        "\n",
        "women_pmi_pos_df = pd.DataFrame(first_entries)\n",
        "\n",
        "women_pmi_pos_df['word'] = women_5000_pmi\n",
        "\n"
      ],
      "metadata": {
        "execution": {
          "iopub.status.busy": "2024-11-20T15:32:01.284583Z",
          "iopub.execute_input": "2024-11-20T15:32:01.285483Z",
          "iopub.status.idle": "2024-11-20T15:32:01.301042Z",
          "shell.execute_reply.started": "2024-11-20T15:32:01.285441Z",
          "shell.execute_reply": "2024-11-20T15:32:01.299993Z"
        },
        "trusted": true,
        "id": "AshkIz2nNxl8"
      },
      "execution_count": null,
      "outputs": []
    },
    {
      "cell_type": "code",
      "source": [
        "# Extract the first entry from each list\n",
        "first_entries = []\n",
        "for article in men_pmi_pos:\n",
        "    if article:  # Check if the list is not empty\n",
        "        first_entry = article[0]\n",
        "        first_entries.append({\n",
        "            'POS_Tag': first_entry['entity'],\n",
        "            'Confidence_Score': first_entry['score']\n",
        "        })\n",
        "\n",
        "men_pmi_pos_df = pd.DataFrame(first_entries)\n",
        "\n",
        "men_pmi_pos_df['word'] = men_5000_pmi"
      ],
      "metadata": {
        "execution": {
          "iopub.status.busy": "2024-11-20T15:32:04.594715Z",
          "iopub.execute_input": "2024-11-20T15:32:04.595452Z",
          "iopub.status.idle": "2024-11-20T15:32:04.60844Z",
          "shell.execute_reply.started": "2024-11-20T15:32:04.595404Z",
          "shell.execute_reply": "2024-11-20T15:32:04.607465Z"
        },
        "trusted": true,
        "id": "56bUpFWCNxl8"
      },
      "execution_count": null,
      "outputs": []
    },
    {
      "cell_type": "code",
      "source": [
        "women_pmi_pos_df.to_csv('/kaggle/working/pmi_pos_women_all.csv')"
      ],
      "metadata": {
        "execution": {
          "iopub.status.busy": "2024-11-20T15:32:26.536037Z",
          "iopub.execute_input": "2024-11-20T15:32:26.536418Z",
          "iopub.status.idle": "2024-11-20T15:32:26.557176Z",
          "shell.execute_reply.started": "2024-11-20T15:32:26.536386Z",
          "shell.execute_reply": "2024-11-20T15:32:26.556508Z"
        },
        "trusted": true,
        "id": "mFSeC9NwNxl8"
      },
      "execution_count": null,
      "outputs": []
    },
    {
      "cell_type": "code",
      "source": [
        "men_pmi_pos_df.to_csv('/kaggle/working/pmi_pos_men_all.csv')"
      ],
      "metadata": {
        "execution": {
          "iopub.status.busy": "2024-11-20T15:32:27.527294Z",
          "iopub.execute_input": "2024-11-20T15:32:27.52766Z",
          "iopub.status.idle": "2024-11-20T15:32:27.544373Z",
          "shell.execute_reply.started": "2024-11-20T15:32:27.527628Z",
          "shell.execute_reply": "2024-11-20T15:32:27.543527Z"
        },
        "trusted": true,
        "id": "rXlOeNHANxmB"
      },
      "execution_count": null,
      "outputs": []
    },
    {
      "cell_type": "code",
      "source": [],
      "metadata": {
        "id": "TN81bx56NxmB"
      },
      "execution_count": null,
      "outputs": []
    }
  ]
}